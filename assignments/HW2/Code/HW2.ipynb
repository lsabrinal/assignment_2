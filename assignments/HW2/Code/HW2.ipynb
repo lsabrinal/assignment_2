{
 "cells": [
  {
   "cell_type": "code",
   "execution_count": 53,
   "id": "eb34f46f-6a38-4024-82f0-473444342bca",
   "metadata": {},
   "outputs": [],
   "source": [
    "#import libraries\n",
    "import pandas as pd\n",
    "import numpy as np\n",
    "import matplotlib.pyplot as plt\n",
    "import seaborn as sns\n",
    "\n",
    "#models\n",
    "from sklearn.model_selection import train_test_split, cross_val_score\n",
    "from sklearn.preprocessing import StandardScaler\n",
    "from sklearn.linear_model import LogisticRegression, RidgeClassifier, LassoCV\n",
    "from sklearn.neighbors import KNeighborsClassifier\n",
    "from sklearn.metrics import (\n",
    "    accuracy_score, precision_score, recall_score, f1_score, roc_auc_score, roc_curve, confusion_matrix\n",
    ")"
   ]
  },
  {
   "cell_type": "code",
   "execution_count": 55,
   "id": "d3c5c98a-25d9-43c8-bf71-cc194be7b5ed",
   "metadata": {},
   "outputs": [
    {
     "name": "stdout",
     "output_type": "stream",
     "text": [
      "(12243, 12) (3061, 11)\n",
      "<class 'pandas.core.frame.DataFrame'>\n",
      "RangeIndex: 12243 entries, 0 to 12242\n",
      "Data columns (total 12 columns):\n",
      " #   Column             Non-Null Count  Dtype  \n",
      "---  ------             --------------  -----  \n",
      " 0   id                 12243 non-null  int64  \n",
      " 1   gender             12243 non-null  object \n",
      " 2   age                12243 non-null  float64\n",
      " 3   hypertension       12243 non-null  int64  \n",
      " 4   heart_disease      12243 non-null  int64  \n",
      " 5   ever_married       12243 non-null  object \n",
      " 6   work_type          12243 non-null  object \n",
      " 7   Residence_type     12243 non-null  object \n",
      " 8   avg_glucose_level  12243 non-null  float64\n",
      " 9   bmi                12243 non-null  float64\n",
      " 10  smoking_status     12243 non-null  object \n",
      " 11  stroke             12243 non-null  int64  \n",
      "dtypes: float64(3), int64(4), object(5)\n",
      "memory usage: 1.1+ MB\n"
     ]
    },
    {
     "data": {
      "text/plain": [
       "id                   0\n",
       "gender               0\n",
       "age                  0\n",
       "hypertension         0\n",
       "heart_disease        0\n",
       "ever_married         0\n",
       "work_type            0\n",
       "Residence_type       0\n",
       "avg_glucose_level    0\n",
       "bmi                  0\n",
       "smoking_status       0\n",
       "stroke               0\n",
       "dtype: int64"
      ]
     },
     "execution_count": 55,
     "metadata": {},
     "output_type": "execute_result"
    }
   ],
   "source": [
    "#load data\n",
    "train = pd.read_csv('../RawData/train.csv')\n",
    "test = pd.read_csv('../RawData/test.csv')\n",
    "sample_sub = pd.read_csv('../RawData/sample_solution.csv')\n",
    "\n",
    "print(train.shape, test.shape)\n",
    "train.head(10)\n",
    "\n",
    "train.info()\n",
    "train.isnull().sum()"
   ]
  },
  {
   "cell_type": "code",
   "execution_count": 67,
   "id": "c8776284-2e21-4a9a-9f61-47fb20069750",
   "metadata": {},
   "outputs": [
    {
     "name": "stdout",
     "output_type": "stream",
     "text": [
      "Preprocessing complete. Shapes -> X: (12243, 16) X_test: (3061, 16)\n"
     ]
    },
    {
     "name": "stderr",
     "output_type": "stream",
     "text": [
      "/var/folders/_p/fft8jmnd11qfr0z1byyjlt1c0000gn/T/ipykernel_92775/546808295.py:5: FutureWarning: A value is trying to be set on a copy of a DataFrame or Series through chained assignment using an inplace method.\n",
      "The behavior will change in pandas 3.0. This inplace method will never work because the intermediate object on which we are setting values always behaves as a copy.\n",
      "\n",
      "For example, when doing 'df[col].method(value, inplace=True)', try using 'df.method({col: value}, inplace=True)' or df[col] = df[col].method(value) instead, to perform the operation inplace on the original object.\n",
      "\n",
      "\n",
      "  train['bmi'].fillna(train['bmi'].median(), inplace=True)\n",
      "/var/folders/_p/fft8jmnd11qfr0z1byyjlt1c0000gn/T/ipykernel_92775/546808295.py:6: FutureWarning: A value is trying to be set on a copy of a DataFrame or Series through chained assignment using an inplace method.\n",
      "The behavior will change in pandas 3.0. This inplace method will never work because the intermediate object on which we are setting values always behaves as a copy.\n",
      "\n",
      "For example, when doing 'df[col].method(value, inplace=True)', try using 'df.method({col: value}, inplace=True)' or df[col] = df[col].method(value) instead, to perform the operation inplace on the original object.\n",
      "\n",
      "\n",
      "  test['bmi'].fillna(train['bmi'].median(), inplace=True)\n",
      "/var/folders/_p/fft8jmnd11qfr0z1byyjlt1c0000gn/T/ipykernel_92775/546808295.py:7: FutureWarning: A value is trying to be set on a copy of a DataFrame or Series through chained assignment using an inplace method.\n",
      "The behavior will change in pandas 3.0. This inplace method will never work because the intermediate object on which we are setting values always behaves as a copy.\n",
      "\n",
      "For example, when doing 'df[col].method(value, inplace=True)', try using 'df.method({col: value}, inplace=True)' or df[col] = df[col].method(value) instead, to perform the operation inplace on the original object.\n",
      "\n",
      "\n",
      "  train['smoking_status'].fillna('Unknown', inplace=True)\n",
      "/var/folders/_p/fft8jmnd11qfr0z1byyjlt1c0000gn/T/ipykernel_92775/546808295.py:8: FutureWarning: A value is trying to be set on a copy of a DataFrame or Series through chained assignment using an inplace method.\n",
      "The behavior will change in pandas 3.0. This inplace method will never work because the intermediate object on which we are setting values always behaves as a copy.\n",
      "\n",
      "For example, when doing 'df[col].method(value, inplace=True)', try using 'df.method({col: value}, inplace=True)' or df[col] = df[col].method(value) instead, to perform the operation inplace on the original object.\n",
      "\n",
      "\n",
      "  test['smoking_status'].fillna('Unknown', inplace=True)\n"
     ]
    }
   ],
   "source": [
    "#pre-processing pipeline\n",
    "from sklearn.preprocessing import StandardScaler\n",
    "\n",
    "#filling in missing values\n",
    "train['bmi'].fillna(train['bmi'].median(), inplace=True)\n",
    "test['bmi'].fillna(train['bmi'].median(), inplace=True)\n",
    "train['smoking_status'].fillna('Unknown', inplace=True)\n",
    "test['smoking_status'].fillna('Unknown', inplace=True)\n",
    "\n",
    "#one-hot encoding the categorical variables\n",
    "categorical_cols = ['gender', 'ever_married', 'work_type', 'Residence_type', 'smoking_status']\n",
    "train_encoded = pd.get_dummies(train, columns=categorical_cols, drop_first=True)\n",
    "test_encoded = pd.get_dummies(test, columns=categorical_cols, drop_first=True)\n",
    "\n",
    "#using logistic regression\n",
    "\n",
    "#preparing features and target variable\n",
    "X = train_encoded.drop(['id', 'stroke'], axis=1, errors='ignore')\n",
    "y = train_encoded['stroke']\n",
    "\n",
    "#aligning test with train columns\n",
    "X_test = test_encoded.drop('id', axis=1, errors='ignore')\n",
    "X_test = X_test.reindex(columns=X.columns, fill_value=0)\n",
    "\n",
    "#scaling numeric columns\n",
    "num_cols = ['age', 'avg_glucose_level', 'bmi']\n",
    "scaler = StandardScaler()\n",
    "X[num_cols] = scaler.fit_transform(X[num_cols])\n",
    "X_test[num_cols] = scaler.transform(X_test[num_cols])\n",
    "\n",
    "print(\"Preprocessing complete. Shapes -> X:\", X.shape, \"X_test:\", X_test.shape)"
   ]
  },
  {
   "cell_type": "code",
   "execution_count": 59,
   "id": "19640e11-662e-44d3-aab9-6d82460bd972",
   "metadata": {},
   "outputs": [
    {
     "name": "stdout",
     "output_type": "stream",
     "text": [
      "Accuracy: 0.7839934667211107\n",
      "Precision: 0.13851351351351351\n",
      "Recall: 0.8118811881188119\n",
      "F1 Score: 0.23665223665223664\n",
      "ROC AUC: 0.8699630610420497\n"
     ]
    },
    {
     "data": {
      "image/png": "[encoded data removed]",
      "text/plain": [
       "<Figure size 640x480 with 2 Axes>"
      ]
     },
     "metadata": {},
     "output_type": "display_data"
    }
   ],
   "source": [
    "#splitting the data\n",
    "from sklearn.model_selection import train_test_split\n",
    "X_train, X_val, y_train, y_val = train_test_split(\n",
    "    X, y, test_size=0.2, random_state=42, stratify=y\n",
    ")\n",
    "\n",
    "#logistic regression model\n",
    "from sklearn.linear_model import LogisticRegression\n",
    "from sklearn.metrics import accuracy_score, precision_score, recall_score, f1_score, roc_auc_score, confusion_matrix\n",
    "import seaborn as sns\n",
    "import matplotlib.pyplot as plt\n",
    "\n",
    "#weight imbalance in stroke, making sure model does not just predict 0\n",
    "lr = LogisticRegression(class_weight='balanced', max_iter=1000, random_state=42)\n",
    "lr.fit(X_train, y_train)\n",
    "\n",
    "#predictions\n",
    "y_pred = lr.predict(X_val)\n",
    "y_proba = lr.predict_proba(X_val)[:,1]\n",
    "\n",
    "#evaluation metrics\n",
    "print(\"Accuracy:\", accuracy_score(y_val, y_pred))\n",
    "print(\"Precision:\", precision_score(y_val, y_pred))\n",
    "print(\"Recall:\", recall_score(y_val, y_pred))\n",
    "print(\"F1 Score:\", f1_score(y_val, y_pred))\n",
    "print(\"ROC AUC:\", roc_auc_score(y_val, y_proba))\n",
    "\n",
    "#confusion matrix\n",
    "sns.heatmap(confusion_matrix(y_val, y_pred), annot=True, fmt='d', cmap='Blues')\n",
    "plt.show()"
   ]
  },
  {
   "cell_type": "code",
   "execution_count": 61,
   "id": "61952edd-e9a0-4f33-9080-60778e625ba5",
   "metadata": {},
   "outputs": [
    {
     "name": "stdout",
     "output_type": "stream",
     "text": [
      "Submission file created: '../Output/submission.csv'\n"
     ]
    }
   ],
   "source": [
    "#test submission\n",
    "test_preds = lr.predict(X_test)\n",
    "submission = pd.DataFrame({'id': test['id'], 'stroke': test_preds})\n",
    "submission.to_csv('../Output/submission.csv', index=False)\n",
    "print(\"Submission file created: '../Output/submission.csv'\")"
   ]
  },
  {
   "cell_type": "code",
   "execution_count": 63,
   "id": "69239fcc-84e9-477d-8891-ef72d0decc0d",
   "metadata": {},
   "outputs": [
    {
     "name": "stdout",
     "output_type": "stream",
     "text": [
      "Accuracy: 0.7839934667211107\n",
      "Precision: 0.13851351351351351\n",
      "Recall: 0.8118811881188119\n",
      "F1 Score: 0.23665223665223664\n",
      "ROC AUC: 0.8699630610420497\n"
     ]
    }
   ],
   "source": [
    "print(\"Accuracy:\", accuracy_score(y_val, y_pred))\n",
    "print(\"Precision:\", precision_score(y_val, y_pred))\n",
    "print(\"Recall:\", recall_score(y_val, y_pred))\n",
    "print(\"F1 Score:\", f1_score(y_val, y_pred))\n",
    "print(\"ROC AUC:\", roc_auc_score(y_val, y_proba))"
   ]
  },
  {
   "cell_type": "code",
   "execution_count": 65,
   "id": "14bbf671-fa9e-4755-85bc-eee560a78664",
   "metadata": {},
   "outputs": [
    {
     "data": {
      "text/plain": [
       "stroke\n",
       "0    2324\n",
       "1     737\n",
       "Name: count, dtype: int64"
      ]
     },
     "execution_count": 65,
     "metadata": {},
     "output_type": "execute_result"
    }
   ],
   "source": [
    "submission = pd.read_csv('../Output/submission.csv')\n",
    "submission['stroke'].value_counts()"
   ]
  },
  {
   "cell_type": "code",
   "execution_count": null,
   "id": "ab170997-133e-4f5f-9191-f8e314964def",
   "metadata": {},
   "outputs": [],
   "source": []
  }
 ],
 "metadata": {
  "kernelspec": {
   "display_name": "Python [conda env:base] *",
   "language": "python",
   "name": "conda-base-py"
  },
  "language_info": {
   "codemirror_mode": {
    "name": "ipython",
    "version": 3
   },
   "file_extension": ".py",
   "mimetype": "text/x-python",
   "name": "python",
   "nbconvert_exporter": "python",
   "pygments_lexer": "ipython3",
   "version": "3.12.7"
  }
 },
 "nbformat": 4,
 "nbformat_minor": 5
}
